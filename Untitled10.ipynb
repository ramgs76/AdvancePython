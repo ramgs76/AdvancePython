{
 "cells": [
  {
   "cell_type": "code",
   "execution_count": 1,
   "metadata": {},
   "outputs": [
    {
     "data": {
      "text/plain": [
       "10"
      ]
     },
     "execution_count": 1,
     "metadata": {},
     "output_type": "execute_result"
    }
   ],
   "source": [
    "f=lambda n:n*2\n",
    "f(5)"
   ]
  },
  {
   "cell_type": "code",
   "execution_count": 3,
   "metadata": {},
   "outputs": [
    {
     "data": {
      "text/plain": [
       "['woodridge',\n",
       " 'stock',\n",
       " 'price',\n",
       " 'ron',\n",
       " 'yanks',\n",
       " 'Spike',\n",
       " 'Tan',\n",
       " 'Willy',\n",
       " 'Philene']"
      ]
     },
     "execution_count": 3,
     "metadata": {},
     "output_type": "execute_result"
    }
   ],
   "source": [
    "words=['woodridge','stock','price','ron','yanks','Spike','Tan','Willy','Philene']\n",
    "\n",
    "word_list=[w for w in words if len(w)>=3]\n",
    "word_list"
   ]
  },
  {
   "cell_type": "code",
   "execution_count": 24,
   "metadata": {},
   "outputs": [
    {
     "data": {
      "text/plain": [
       "['R.S.', 'T.K.', 'Y.P.', 'K.G.']"
      ]
     },
     "execution_count": 24,
     "metadata": {},
     "output_type": "execute_result"
    }
   ],
   "source": [
    "name=['Ram Singh','Trish Khan','Yash Patel','Kabir George']\n",
    "\n",
    "def get_init(name):\n",
    "    inits=[]\n",
    "    for name_part in name.split():\n",
    "        inits.append(name_part[0])\n",
    "    \n",
    "    \n",
    "    return '.'.join(inits)+'.'\n",
    "    \n",
    "\n",
    "inits=[get_init(person) for person in name]\n",
    "inits"
   ]
  },
  {
   "cell_type": "code",
   "execution_count": null,
   "metadata": {},
   "outputs": [],
   "source": []
  }
 ],
 "metadata": {
  "kernelspec": {
   "display_name": "Python 3",
   "language": "python",
   "name": "python3"
  },
  "language_info": {
   "codemirror_mode": {
    "name": "ipython",
    "version": 3
   },
   "file_extension": ".py",
   "mimetype": "text/x-python",
   "name": "python",
   "nbconvert_exporter": "python",
   "pygments_lexer": "ipython3",
   "version": "3.6.4"
  }
 },
 "nbformat": 4,
 "nbformat_minor": 2
}
